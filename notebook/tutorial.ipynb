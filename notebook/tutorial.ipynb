{
 "cells": [
  {
   "cell_type": "code",
   "execution_count": 6,
   "metadata": {},
   "outputs": [
    {
     "name": "stdout",
     "output_type": "stream",
     "text": [
      "Number of data points: 100\n",
      "Number of features: 5\n"
     ]
    }
   ],
   "source": [
    "import edward as ed\n",
    "import numpy as np\n",
    "import tensorflow as tf\n",
    "\n",
    "from edward.models import Bernoulli, MultivariateNormalTriL, Normal\n",
    "from edward.util import rbf\n",
    "from observations import crabs\n",
    "from observations import crabs\n",
    "\n",
    "data, metadata = crabs(\"~/data\")\n",
    "X_train = data[:100, 3:]\n",
    "y_train = data[:100, 1]\n",
    "\n",
    "N = X_train.shape[0]  # number of data points\n",
    "D = X_train.shape[1]  # number of features\n",
    "\n",
    "print(\"Number of data points: {}\".format(N))\n",
    "print(\"Number of features: {}\".format(D))"
   ]
  },
  {
   "cell_type": "code",
   "execution_count": 4,
   "metadata": {},
   "outputs": [],
   "source": [
    "import tensorflow as tf\n",
    "from edward.models import Bernoulli, MultivariateNormalTriL\n",
    "from edward.util import rbf\n",
    "\n",
    "X = tf.placeholder(tf.float32, [N, D])\n",
    "f = MultivariateNormalTriL(loc=tf.zeros(N), scale_tril=tf.cholesky(rbf(X)))\n",
    "y = Bernoulli(logits=f)"
   ]
  },
  {
   "cell_type": "code",
   "execution_count": 7,
   "metadata": {},
   "outputs": [],
   "source": [
    "qf = Normal(loc=tf.get_variable(\"qf/loc\", [N]),\n",
    "            scale=tf.nn.softplus(tf.get_variable(\"qf/scale\", [N])))"
   ]
  },
  {
   "cell_type": "code",
   "execution_count": 11,
   "metadata": {},
   "outputs": [
    {
     "name": "stderr",
     "output_type": "stream",
     "text": [
      "/home/app-user/.pyenv/versions/3.6.3/lib/python3.6/site-packages/edward/util/random_variables.py:52: FutureWarning: Conversion of the second argument of issubdtype from `float` to `np.floating` is deprecated. In future, it will be treated as `np.float64 == np.dtype(float).type`.\n",
      "  not np.issubdtype(value.dtype, np.float) and \\\n"
     ]
    },
    {
     "name": "stdout",
     "output_type": "stream",
     "text": [
      "500/500 [100%] ██████████████████████████████ Elapsed: 1s | Loss: 92.308\n"
     ]
    }
   ],
   "source": [
    "inference = ed.KLqp({f: qf}, data={X: X_train, y: y_train})\n",
    "inference.run(n_iter=500)"
   ]
  },
  {
   "cell_type": "code",
   "execution_count": 12,
   "metadata": {},
   "outputs": [
    {
     "data": {
      "text/plain": [
       "['__abs__',\n",
       " '__abstractmethods__',\n",
       " '__add__',\n",
       " '__and__',\n",
       " '__array_priority__',\n",
       " '__bool__',\n",
       " '__class__',\n",
       " '__delattr__',\n",
       " '__dict__',\n",
       " '__dir__',\n",
       " '__div__',\n",
       " '__doc__',\n",
       " '__eq__',\n",
       " '__floordiv__',\n",
       " '__format__',\n",
       " '__ge__',\n",
       " '__getattribute__',\n",
       " '__getitem__',\n",
       " '__gt__',\n",
       " '__hash__',\n",
       " '__init__',\n",
       " '__init_subclass__',\n",
       " '__invert__',\n",
       " '__iter__',\n",
       " '__le__',\n",
       " '__lt__',\n",
       " '__matmul__',\n",
       " '__mod__',\n",
       " '__module__',\n",
       " '__mul__',\n",
       " '__ne__',\n",
       " '__neg__',\n",
       " '__new__',\n",
       " '__nonzero__',\n",
       " '__or__',\n",
       " '__pow__',\n",
       " '__radd__',\n",
       " '__rand__',\n",
       " '__rdiv__',\n",
       " '__reduce__',\n",
       " '__reduce_ex__',\n",
       " '__repr__',\n",
       " '__rfloordiv__',\n",
       " '__rmatmul__',\n",
       " '__rmod__',\n",
       " '__rmul__',\n",
       " '__ror__',\n",
       " '__rpow__',\n",
       " '__rsub__',\n",
       " '__rtruediv__',\n",
       " '__rxor__',\n",
       " '__setattr__',\n",
       " '__sizeof__',\n",
       " '__str__',\n",
       " '__sub__',\n",
       " '__subclasshook__',\n",
       " '__truediv__',\n",
       " '__weakref__',\n",
       " '__xor__',\n",
       " '_abc_cache',\n",
       " '_abc_negative_cache',\n",
       " '_abc_negative_cache_version',\n",
       " '_abc_registry',\n",
       " '_allow_nan_stats',\n",
       " '_args',\n",
       " '_batch_shape',\n",
       " '_batch_shape_tensor',\n",
       " '_call_cdf',\n",
       " '_call_log_cdf',\n",
       " '_call_log_prob',\n",
       " '_call_log_survival_function',\n",
       " '_call_prob',\n",
       " '_call_quantile',\n",
       " '_call_sample_n',\n",
       " '_call_survival_function',\n",
       " '_cdf',\n",
       " '_covariance',\n",
       " '_cross_entropy',\n",
       " '_dtype',\n",
       " '_entropy',\n",
       " '_event_shape',\n",
       " '_event_shape_tensor',\n",
       " '_expand_sample_shape_to_vector',\n",
       " '_graph_parents',\n",
       " '_is_scalar_helper',\n",
       " '_kl_divergence',\n",
       " '_kwargs',\n",
       " '_log_cdf',\n",
       " '_log_prob',\n",
       " '_log_survival_function',\n",
       " '_logits',\n",
       " '_mean',\n",
       " '_mode',\n",
       " '_name',\n",
       " '_name_scope',\n",
       " '_overload_all_operators',\n",
       " '_overload_operator',\n",
       " '_param_shapes',\n",
       " '_parameters',\n",
       " '_prob',\n",
       " '_probs',\n",
       " '_quantile',\n",
       " '_reparameterization_type',\n",
       " '_sample_n',\n",
       " '_sample_shape',\n",
       " '_session_run_conversion_feed_function',\n",
       " '_session_run_conversion_feed_function_for_partial_run',\n",
       " '_session_run_conversion_fetch_function',\n",
       " '_set_sample_static_shape',\n",
       " '_stddev',\n",
       " '_survival_function',\n",
       " '_tensor_conversion_function',\n",
       " '_validate_args',\n",
       " '_value',\n",
       " '_variance',\n",
       " 'allow_nan_stats',\n",
       " 'batch_shape',\n",
       " 'batch_shape_tensor',\n",
       " 'cdf',\n",
       " 'conjugate_log_prob',\n",
       " 'copy',\n",
       " 'covariance',\n",
       " 'cross_entropy',\n",
       " 'dtype',\n",
       " 'entropy',\n",
       " 'eval',\n",
       " 'event_shape',\n",
       " 'event_shape_tensor',\n",
       " 'get_ancestors',\n",
       " 'get_blanket',\n",
       " 'get_children',\n",
       " 'get_descendants',\n",
       " 'get_parents',\n",
       " 'get_shape',\n",
       " 'get_siblings',\n",
       " 'get_variables',\n",
       " 'is_scalar_batch',\n",
       " 'is_scalar_event',\n",
       " 'kl_divergence',\n",
       " 'log_cdf',\n",
       " 'log_prob',\n",
       " 'log_survival_function',\n",
       " 'logits',\n",
       " 'mean',\n",
       " 'mode',\n",
       " 'name',\n",
       " 'param_shapes',\n",
       " 'param_static_shapes',\n",
       " 'parameters',\n",
       " 'prob',\n",
       " 'probs',\n",
       " 'quantile',\n",
       " 'reparameterization_type',\n",
       " 'sample',\n",
       " 'sample_shape',\n",
       " 'shape',\n",
       " 'stddev',\n",
       " 'support',\n",
       " 'survival_function',\n",
       " 'validate_args',\n",
       " 'value',\n",
       " 'variance']"
      ]
     },
     "execution_count": 12,
     "metadata": {},
     "output_type": "execute_result"
    }
   ],
   "source": [
    "y.sample()"
   ]
  },
  {
   "cell_type": "code",
   "execution_count": null,
   "metadata": {},
   "outputs": [],
   "source": []
  }
 ],
 "metadata": {
  "kernelspec": {
   "display_name": "Python 3",
   "language": "python",
   "name": "python3"
  },
  "language_info": {
   "codemirror_mode": {
    "name": "ipython",
    "version": 3
   },
   "file_extension": ".py",
   "mimetype": "text/x-python",
   "name": "python",
   "nbconvert_exporter": "python",
   "pygments_lexer": "ipython3",
   "version": "3.6.3"
  }
 },
 "nbformat": 4,
 "nbformat_minor": 2
}
